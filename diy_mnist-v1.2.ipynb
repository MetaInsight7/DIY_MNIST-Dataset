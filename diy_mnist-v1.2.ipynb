{
 "cells": [
  {
   "cell_type": "code",
   "execution_count": 14,
   "id": "19507f2c",
   "metadata": {},
   "outputs": [],
   "source": [
    "from PIL import Image\n",
    "import os"
   ]
  },
  {
   "cell_type": "code",
   "execution_count": 15,
   "id": "42f1ce97",
   "metadata": {},
   "outputs": [],
   "source": [
    "#a4图片储存路径\n",
    "path = 'a4imgs'"
   ]
  },
  {
   "cell_type": "code",
   "execution_count": 16,
   "id": "26603e2e",
   "metadata": {},
   "outputs": [
    {
     "name": "stdout",
     "output_type": "stream",
     "text": [
      "数据集储存文件夹已建立\n"
     ]
    }
   ],
   "source": [
    "# 建立文件夹\n",
    "if os.path.exists('data_set'):\n",
    "    print(\"数据集储存文件夹已存在\")\n",
    "else:\n",
    "    os.mkdir('data_set')\n",
    "    print(\"数据集储存文件夹已建立\")\n",
    "for i in range(10):\n",
    "    if os.path.exists('data_set/'+str(i)):\n",
    "        pass\n",
    "    else:\n",
    "        os.mkdir('data_set/'+str(i))"
   ]
  },
  {
   "cell_type": "code",
   "execution_count": 17,
   "id": "ec7a2a35",
   "metadata": {},
   "outputs": [],
   "source": [
    "# 获取图片列表\n",
    "def get_imgs(path):  # 获取所有文件\n",
    "    imgs_list = []\n",
    "    for i,name in enumerate(os.listdir(path)): #listdir返回文件中所有目录\n",
    "        os.rename(path + '/' + name,path + '/' +'{}.png'.format(i)) # 重命名图片\n",
    "        imgs_list.append('{}.png'.format(i))\n",
    "    return imgs_list"
   ]
  },
  {
   "cell_type": "code",
   "execution_count": 18,
   "id": "12b1b0c4",
   "metadata": {},
   "outputs": [],
   "source": [
    "# 切割图片\n",
    "def cut_image(imgs_list):\n",
    "    for i in range(4):        #遍历切割区域\n",
    "        for j in range(len(imgs_list)):   #遍历a4图片\n",
    "            img = Image.open('a4imgs/'+imgs_list[j])\n",
    "            \n",
    "            # 获取图像的宽高\n",
    "            img_size = img.size\n",
    "            w = img_size[0] \n",
    "            h = img_size[1]\n",
    "            #计算剪裁长度\n",
    "            x_step = w*0.25\n",
    "            y_step = h*0.25\n",
    "            z = (x_step-y_step)/2\n",
    "            \n",
    "            # 切割折痕区域-->转化为正方形-->调整像素-->调整rgb-->保存图片\n",
    "            img.crop((i*x_step,0,(i+1)*x_step,y_step)).crop((z,0,y_step+z,y_step)).resize((28, 28)).convert('L').save('data_set/{}/{}_{}.png'.format(i,j,i))\n",
    "            img.crop((i*x_step,y_step,(i+1)*x_step,y_step*2)).crop((z,0,y_step+z,y_step)).resize((28, 28)).convert('L').save('data_set/{}/{}_{}.png'.format(i+4,j,i+4))\n",
    "            if i <= 1:\n",
    "                img.crop((i*x_step,y_step*2,(i+1)*x_step,y_step*3)).crop((z,0,y_step+z,y_step)).resize((28, 28)).convert('L').save('data_set/{}/{}_{}.png'.format(i+8,j,i+8))\n",
    "            else:\n",
    "                pass"
   ]
  },
  {
   "cell_type": "code",
   "execution_count": 19,
   "id": "8005ac29",
   "metadata": {},
   "outputs": [],
   "source": [
    "imgs_list = get_imgs(path)\n",
    "cut_image(imgs_list)"
   ]
  },
  {
   "cell_type": "code",
   "execution_count": null,
   "id": "9464318b",
   "metadata": {},
   "outputs": [],
   "source": []
  }
 ],
 "metadata": {
  "kernelspec": {
   "display_name": "Python 3",
   "language": "python",
   "name": "python3"
  },
  "language_info": {
   "codemirror_mode": {
    "name": "ipython",
    "version": 3
   },
   "file_extension": ".py",
   "mimetype": "text/x-python",
   "name": "python",
   "nbconvert_exporter": "python",
   "pygments_lexer": "ipython3",
   "version": "3.6.15"
  }
 },
 "nbformat": 4,
 "nbformat_minor": 5
}
